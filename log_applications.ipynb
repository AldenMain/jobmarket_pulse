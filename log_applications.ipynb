{
 "cells": [
  {
   "cell_type": "markdown",
   "id": "ed7651fa-6d84-43cd-aa7a-f954ae1ea2e3",
   "metadata": {},
   "source": [
    "## log_applications"
   ]
  },
  {
   "cell_type": "code",
   "execution_count": null,
   "id": "2264bd75-3c81-415d-ba42-3209af8d6c76",
   "metadata": {
    "tags": []
   },
   "outputs": [],
   "source": [
    "import csv\n",
    "from datetime import datetime\n",
    "\n",
    "def log_new_application():\n",
    "    fields = [\n",
    "        \"Job_Title\", \"Company\", \"Industry\", \"Application_Date\", \"Response_Date\",\n",
    "        \"Outcome\", \"CV_Version\", \"Cover_Letter_Customized\",\n",
    "        \"LinkedIn_Connection\", \"Location\", \"Salary_Range\", \"Job_Description\"\n",
    "    ]\n",
    "\n",
    "    data = {\n",
    "        \"Job_Title\": input(\"Job Title: \"),\n",
    "        \"Company\": input(\"Company: \"),\n",
    "        \"Industry\": input(\"Industry: \"),\n",
    "        \"Application_Date\": datetime.today().strftime(\"%Y-%m-%d\"),\n",
    "        \"Response_Date\": \"\",\n",
    "        \"Outcome\": \"\",\n",
    "        \"CV_Version\": input(\"CV Version used (e.g. v1, v2): \"),\n",
    "        \"Cover_Letter_Customized\": input(\"Custom Cover Letter? (Yes/No): \"),\n",
    "        \"LinkedIn_Connection\": input(\"Messaged anyone on LinkedIn? (Yes/No): \"),\n",
    "        \"Location\": input(\"Job Location: \"),\n",
    "        \"Salary_Range\": input(\"Salary Range (if any): \"),\n",
    "        \"Job_Description\": input(\"Copy/paste job description (optional): \")\n",
    "    }\n",
    "\n",
    "    with open(\"applications.csv\", \"a\", newline=\"\") as f:\n",
    "        writer = csv.DictWriter(f, fieldnames=fields)\n",
    "        if f.tell() == 0:\n",
    "            writer.writeheader()\n",
    "        writer.writerow(data)\n",
    "\n",
    "    print(\"Logged.\")\n",
    "\n",
    "if __name__ == \"__main__\":\n",
    "    log_new_application()"
   ]
  },
  {
   "cell_type": "code",
   "execution_count": 7,
   "id": "1c956a03-0ce4-46d2-b0c4-511907281ccc",
   "metadata": {
    "tags": []
   },
   "outputs": [
    {
     "data": {
      "text/html": [
       "<div>\n",
       "<style scoped>\n",
       "    .dataframe tbody tr th:only-of-type {\n",
       "        vertical-align: middle;\n",
       "    }\n",
       "\n",
       "    .dataframe tbody tr th {\n",
       "        vertical-align: top;\n",
       "    }\n",
       "\n",
       "    .dataframe thead th {\n",
       "        text-align: right;\n",
       "    }\n",
       "</style>\n",
       "<table border=\"1\" class=\"dataframe\">\n",
       "  <thead>\n",
       "    <tr style=\"text-align: right;\">\n",
       "      <th></th>\n",
       "      <th>Job_Title</th>\n",
       "      <th>Company</th>\n",
       "      <th>Industry</th>\n",
       "      <th>Application_Date</th>\n",
       "      <th>Response_Date</th>\n",
       "      <th>Outcome</th>\n",
       "      <th>CV_Version</th>\n",
       "      <th>Cover_Letter_Customized</th>\n",
       "      <th>LinkedIn_Connection</th>\n",
       "      <th>Location</th>\n",
       "      <th>Salary_Range</th>\n",
       "      <th>Job_Description</th>\n",
       "    </tr>\n",
       "  </thead>\n",
       "  <tbody>\n",
       "    <tr>\n",
       "      <th>0</th>\n",
       "      <td>Program Management Assistant</td>\n",
       "      <td>OHCHR</td>\n",
       "      <td>Humanitatian</td>\n",
       "      <td>2025-04-15</td>\n",
       "      <td>NaT</td>\n",
       "      <td>NaN</td>\n",
       "      <td>NaN</td>\n",
       "      <td>Yes</td>\n",
       "      <td>No</td>\n",
       "      <td>Geneva</td>\n",
       "      <td>NaN</td>\n",
       "      <td>\\t Org. Setting and Reporting This position is...</td>\n",
       "    </tr>\n",
       "    <tr>\n",
       "      <th>1</th>\n",
       "      <td>Data Analyst</td>\n",
       "      <td>Unilabs</td>\n",
       "      <td>Medical Laboratory Diagnostics</td>\n",
       "      <td>2025-04-15</td>\n",
       "      <td>NaT</td>\n",
       "      <td>NaN</td>\n",
       "      <td>Alden Main, Resume (2025) V1.00</td>\n",
       "      <td>No</td>\n",
       "      <td>No</td>\n",
       "      <td>Coppet</td>\n",
       "      <td>NaN</td>\n",
       "      <td>We are seeking a highly motivated and detail-o...</td>\n",
       "    </tr>\n",
       "  </tbody>\n",
       "</table>\n",
       "</div>"
      ],
      "text/plain": [
       "                      Job_Title  Company                        Industry  \\\n",
       "0  Program Management Assistant    OHCHR                    Humanitatian   \n",
       "1                  Data Analyst  Unilabs  Medical Laboratory Diagnostics   \n",
       "\n",
       "  Application_Date Response_Date  Outcome                       CV_Version  \\\n",
       "0       2025-04-15           NaT      NaN                              NaN   \n",
       "1       2025-04-15           NaT      NaN  Alden Main, Resume (2025) V1.00   \n",
       "\n",
       "  Cover_Letter_Customized LinkedIn_Connection Location  Salary_Range  \\\n",
       "0                     Yes                  No   Geneva           NaN   \n",
       "1                      No                  No   Coppet           NaN   \n",
       "\n",
       "                                     Job_Description  \n",
       "0  \\t Org. Setting and Reporting This position is...  \n",
       "1  We are seeking a highly motivated and detail-o...  "
      ]
     },
     "execution_count": 7,
     "metadata": {},
     "output_type": "execute_result"
    }
   ],
   "source": [
    "import pandas as pd\n",
    "\n",
    "df = pd.read_csv(\"applications.csv\", parse_dates=[\"Application_Date\", \"Response_Date\"])\n",
    "df.head()\n"
   ]
  }
 ],
 "metadata": {
  "kernelspec": {
   "display_name": "Python 3 (ipykernel)",
   "language": "python",
   "name": "python3"
  },
  "language_info": {
   "codemirror_mode": {
    "name": "ipython",
    "version": 3
   },
   "file_extension": ".py",
   "mimetype": "text/x-python",
   "name": "python",
   "nbconvert_exporter": "python",
   "pygments_lexer": "ipython3",
   "version": "3.11.5"
  }
 },
 "nbformat": 4,
 "nbformat_minor": 5
}
